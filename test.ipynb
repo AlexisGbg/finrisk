{
 "cells": [
  {
   "cell_type": "code",
   "execution_count": 1,
   "metadata": {},
   "outputs": [],
   "source": [
    "import yfinance\n",
    "\n",
    "ticker = \"ACM\"\n",
    "\n",
    "ticker = yfinance.Ticker(ticker)\n",
    "period=\"1mo\"\n",
    "interval=\"1d\"\n",
    "# data = ticker.history(period=period, interval=interval)\n",
    "\n",
    "# print(data)\n",
    "data = ticker.incomestmt"
   ]
  },
  {
   "cell_type": "code",
   "execution_count": 5,
   "metadata": {},
   "outputs": [
    {
     "name": "stdout",
     "output_type": "stream",
     "text": [
      "2023-09-30    14378461000.0\n",
      "2022-09-30    13148182000.0\n",
      "2021-09-30    13340852000.0\n",
      "2020-09-30    13239976000.0\n",
      "Name: revenue, dtype: object\n"
     ]
    }
   ],
   "source": [
    "\n",
    "ts = data.loc[\"Total Revenue\",:]\n",
    "ts.name = \"revenue\"\n",
    "print(ts)"
   ]
  }
 ],
 "metadata": {
  "kernelspec": {
   "display_name": ".venv",
   "language": "python",
   "name": "python3"
  },
  "language_info": {
   "codemirror_mode": {
    "name": "ipython",
    "version": 3
   },
   "file_extension": ".py",
   "mimetype": "text/x-python",
   "name": "python",
   "nbconvert_exporter": "python",
   "pygments_lexer": "ipython3",
   "version": "3.11.9"
  }
 },
 "nbformat": 4,
 "nbformat_minor": 2
}
